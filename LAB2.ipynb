{
  "cells": [
    {
      "cell_type": "markdown",
      "metadata": {
        "id": "KaIJOkUjCOnQ"
      },
      "source": [
        "# Основи Python\n",
        "\n",
        "## Завдання № 1\n",
        "Написати функцію з одним аргументом, яка перевіряє чи є аргумент парним чи непарним. Функція повинна повернути `even` або `odd` в залежності від того яке то число. Якщо аргумент `None` або не є числом -- необхідно повернути пусту строку."
      ]
    },
    {
      "cell_type": "code",
      "execution_count": null,
      "metadata": {
        "colab": {
          "base_uri": "https://localhost:8080/"
        },
        "id": "m4PWTGrPCOnS",
        "outputId": "18b808e0-ebb3-4d27-83e3-bce6d25536bd"
      },
      "outputs": [
        {
          "output_type": "stream",
          "name": "stdout",
          "text": [
            "odd\n",
            "even\n",
            "\n",
            "\n"
          ]
        }
      ],
      "source": [
        "from __future__ import annotations\n",
        "\n",
        "def is_even(arg: int) -> str:\n",
        "    if arg is None or not isinstance(arg, (int)):\n",
        "        return \"\"\n",
        "    elif arg % 2 == 0:\n",
        "        return \"even\"\n",
        "    else:\n",
        "        return \"odd\"\n",
        "\n",
        "# Приклади використання:\n",
        "print(is_even(5))  # Поверне \"odd\"\n",
        "print(is_even(10)) # Поверне \"even\"\n",
        "print(is_even(None)) # Поверне \"\"\n",
        "print(is_even(\"string\")) # Поверне \"\""
      ]
    },
    {
      "cell_type": "markdown",
      "metadata": {
        "id": "iYnnVWUCCOnT"
      },
      "source": [
        "## Завдання № 2\n",
        "Написати функцію, яка починає перебирати числа від 1 до нескінченності і перевіряє чи є число простим (просте число - те яке ділиться лише на 1 чи само на себе). Якщо просте число знайдене - воно додається до списку `numbers`. Після пʼятого знайденого простого числа функція повинна повернути суму всіх пʼяти простих чисел у списку."
      ]
    },
    {
      "cell_type": "code",
      "execution_count": 2,
      "metadata": {
        "colab": {
          "base_uri": "https://localhost:8080/"
        },
        "id": "ZOmVaOfpCOnT",
        "outputId": "4ba143d7-72b7-4aa3-84dd-4df904d283b0"
      },
      "outputs": [
        {
          "output_type": "stream",
          "name": "stdout",
          "text": [
            "28\n"
          ]
        }
      ],
      "source": [
        "from __future__ import annotations\n",
        "\n",
        "def is_prime(num: int) -> bool:\n",
        "    if num <= 1:\n",
        "        return False\n",
        "    for i in range(2, int(num**0.5) + 1):\n",
        "        if num % i == 0:\n",
        "            return False\n",
        "    return True\n",
        "\n",
        "def sum_simple() -> int:\n",
        "    numbers = []\n",
        "    num = 2\n",
        "    while len(numbers) < 5:\n",
        "        if is_prime(num):\n",
        "            numbers.append(num)\n",
        "        num += 1\n",
        "    return sum(numbers)\n",
        "\n",
        "# Приклад використання:\n",
        "print(sum_simple())  # Виведе суму перших п'яти простих чисел"
      ]
    },
    {
      "cell_type": "markdown",
      "metadata": {
        "id": "xpZk8q93COnU"
      },
      "source": [
        "## Завдання № 3\n",
        "Написати функцію з одним аргументом `n`, що є числом. Функція повинна повернути суму наступного ряду з `n` чисел $1 + 11 + 111 + 1111 + ....$, де кожний елемент - число з постійно зростаючою кількістю одиниць.\n",
        "\n",
        "Наприклад:\n",
        "\n",
        "Ви передаєте в функцію аргумент `5`.\n",
        "\n",
        "Функція рахує сумму для ряду виду: $1 + 11 + 111 + 1111 + 11111$.\n",
        "\n",
        "В даному прикладі вона повинна повернути число `12345`"
      ]
    },
    {
      "cell_type": "code",
      "execution_count": 3,
      "metadata": {
        "colab": {
          "base_uri": "https://localhost:8080/"
        },
        "id": "f3--N8DnCOnU",
        "outputId": "7a9cd643-aad4-49b6-9ad0-a181fa38fde9"
      },
      "outputs": [
        {
          "output_type": "stream",
          "name": "stdout",
          "text": [
            "1234567\n"
          ]
        }
      ],
      "source": [
        "from __future__ import annotations\n",
        "\n",
        "def sum_ones(n: int = 7) -> int:\n",
        "    # Ваше рішення\n",
        "    total = 0\n",
        "    current = 0\n",
        "    for i in range(n):\n",
        "        current = current * 10 + 1  # Додаємо одиниці\n",
        "        total += current\n",
        "    return total\n",
        "\n",
        "# Приклад використання:\n",
        "result = sum_ones()\n",
        "print(result)  # Виведе: 12345"
      ]
    },
    {
      "cell_type": "markdown",
      "metadata": {
        "id": "tUaVWmBICOnV"
      },
      "source": [
        "# Об’єктно-орієнтоване програмування за допомогою Python\n",
        "## Завдання №4\n",
        "\n",
        "Створити обʼктну модель організації.\n",
        "\n",
        "В організації повинно бути 3 типи робітників `Employee`: `Developer`, `Designer` & `Manager`.\n",
        "\n",
        "У кожного `Employee` повинні бути поля:\n",
        "- Імʼя - `name`\n",
        "- Призвіще - `surname`\n",
        "- Базова заробітна плата - `base_salary`\n",
        "- Досвід (у роках) - `experience`\n",
        "\n",
        "У `Designer` додатково повинен бути коефіцієнт ефективності `eff_coef`- число від 0 до 1, включно. Якщо коефіцієнт виходить за межі цього діапазону - необхідно поставити значення 0 (якщо він негативний) або 1 (якщо він більше 1).\n",
        "\n",
        "У `Manager` повинна бути команда (список) що складається з довільної кількості `Developer` та `Designer`.\n",
        "\n",
        "Створити обʼєкт `Department`, що містить список `Manager` (які в свою чергу містять команди).\n",
        "Department повинен мати метод give_salary() який повинен надрукувати зарплату ВСІХ `Employee` цієї організації в форматі __іʼмя призвіще отримав counted_salary шекєлей__.\n",
        "\n",
        "Зарплата `counted_salary` для кожного `Employee` обраховується з поля `base_salary` (базова заробітна плата) з наступними умовами:\n",
        "- якщо його досвід роботи більше 2 років, він отримує `base_salary + 200`, але якщо його досвід більше 5 років - він отримує `base_salary * 1.2 + 500`.\n",
        "- Додатково, на зп `Designer` впливає коефіцієнт ефективності `counted_salary * eff_coef`.\n",
        "- Додатково, зп Manager розраховується з `counted_salary` плюс:\n",
        "    - Якщо в його команді більше 5 людей - `counted_salary + 200`, але якщо в його команді більше 10 людей то `counted_salary + 300`.\n",
        "    - Якщо в його команді більше половини `Developer` - його кінцева зп збільшується ще на `10%`.\n",
        "\n",
        "Додаткова інформація:\n",
        "- Для використання методів з суперкласу можна використати метод `super()`.\n",
        "- Перевірити чи є об’єкт екземпляром класу можна за допомогою методу `isinstance`. Його перший агрументом - екземпляр класу, який ми перевіряємо, а другий - імʼя (_батьківського_) класу. Наприклад, для екземпляра автобуса що є транспортним засобом `print(isinstance(myBusInstance, Vehicle)` виведе true."
      ]
    },
    {
      "cell_type": "code",
      "execution_count": 4,
      "metadata": {
        "colab": {
          "base_uri": "https://localhost:8080/"
        },
        "id": "dn02rYRmCOnV",
        "outputId": "9a73c3d2-b3a7-4553-afd2-b08b35a83cd9"
      },
      "outputs": [
        {
          "output_type": "stream",
          "name": "stdout",
          "text": [
            "Manager Chris Martinez отримав 6094.000000000001 шекелів.\n",
            "Employee Emily Johnson отримав 3400 шекелів.\n",
            "Employee Michael Williams отримав 4000 шекелів.\n",
            "Employee Eva Anderson отримав 3075.0 шекелів.\n"
          ]
        }
      ],
      "source": [
        "from __future__ import annotations\n",
        "\n",
        "class Employee:\n",
        "    def __init__(self, name: str, surname: str, base_salary: float, experience: int) -> None:\n",
        "        self.name = name\n",
        "        self.surname = surname\n",
        "        self.base_salary = base_salary\n",
        "        self.experience = experience\n",
        "\n",
        "    def counted_salary(self) -> float:\n",
        "        if self.experience > 5:\n",
        "            return self.base_salary * 1.2 + 500\n",
        "        elif self.experience > 2:\n",
        "            return self.base_salary + 200\n",
        "        else:\n",
        "            return self.base_salary\n",
        "\n",
        "class Developer(Employee):\n",
        "    def __init__(self, name: str, surname: str, base_salary: float, experience: int) -> None:\n",
        "        super().__init__(name, surname, base_salary, experience)\n",
        "\n",
        "class Designer(Employee):\n",
        "    def __init__(self, name: str, surname: str, base_salary: float, experience: int, eff_coef: float) -> None:\n",
        "        super().__init__(name, surname, base_salary, experience)\n",
        "        self.eff_coef = max(0, min(1, eff_coef))\n",
        "\n",
        "    def counted_salary(self) -> float:\n",
        "        return super().counted_salary() * self.eff_coef\n",
        "\n",
        "class Manager(Employee):\n",
        "    def __init__(self, name: str, surname: str, base_salary: float, experience: int, eff_coef: float, team: list[Employee]) -> None:\n",
        "        super().__init__(name, surname, base_salary, experience)\n",
        "        self.eff_coef = max(0, min(1, eff_coef))\n",
        "        self.team = team\n",
        "\n",
        "    def counted_salary(self) -> float:\n",
        "        base_salary = super().counted_salary()\n",
        "        if len(self.team) > 10:\n",
        "            base_salary += 300\n",
        "        elif len(self.team) > 5:\n",
        "            base_salary += 200\n",
        "\n",
        "        dev_count = sum(isinstance(employee, Developer) for employee in self.team)\n",
        "        if dev_count > len(self.team) / 2:\n",
        "            base_salary *= 1.1\n",
        "\n",
        "        return base_salary\n",
        "\n",
        "class Department:\n",
        "    def __init__(self, managers: List[Manager]) -> None:\n",
        "        self.managers = managers\n",
        "\n",
        "    def give_salary(self) -> None:\n",
        "        for manager in self.managers:\n",
        "            print(f\"Manager {manager.name} {manager.surname} отримав {manager.counted_salary()} шекелів.\")\n",
        "            for employee in manager.team:\n",
        "                print(f\"Employee {employee.name} {employee.surname} отримав {employee.counted_salary()} шекелів.\")\n",
        "\n",
        "# Приклад використання:\n",
        "dev3 = Developer(\"Emily\", \"Johnson\", 3200, 4)\n",
        "dev4 = Developer(\"Michael\", \"Williams\", 3800, 5)\n",
        "designer2 = Designer(\"Eva\", \"Anderson\", 3000, 6, 0.75)\n",
        "manager2 = Manager(\"Chris\", \"Martinez\", 4200, 8, 0.85, [dev3, dev4, designer2])\n",
        "\n",
        "department2 = Department([manager2])\n",
        "\n",
        "department2.give_salary()\n"
      ]
    }
  ],
  "metadata": {
    "kernelspec": {
      "display_name": "venv",
      "language": "python",
      "name": "python3"
    },
    "language_info": {
      "name": "python",
      "version": "3.11.6"
    },
    "colab": {
      "provenance": []
    }
  },
  "nbformat": 4,
  "nbformat_minor": 0
}